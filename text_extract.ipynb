{
 "cells": [
  {
   "cell_type": "markdown",
   "id": "6e3e1c29-0025-4b1b-91c9-5a4764313715",
   "metadata": {},
   "source": [
    "## Importing libs & exploration"
   ]
  },
  {
   "cell_type": "code",
   "execution_count": 30,
   "id": "630a4270-6fd5-4e26-988c-0fb361d2b53b",
   "metadata": {},
   "outputs": [],
   "source": [
    "import json\n",
    "import os\n",
    "import random\n",
    "import numpy as np\n",
    "import pandas as pd\n",
    "import gensim\n",
    "import nltk\n",
    "\n",
    "from gensim.models import CoherenceModel\n",
    "from multiprocess import Pool\n",
    "from tqdm import tqdm \n",
    "from gensim.utils import simple_preprocess\n",
    "from nltk.corpus import stopwords\n",
    "from nltk.stem.snowball import RussianStemmer\n",
    "from string import punctuation"
   ]
  },
  {
   "cell_type": "code",
   "execution_count": 31,
   "id": "04eaf540-3017-4fc2-9343-025424109eb2",
   "metadata": {},
   "outputs": [],
   "source": [
    "SOCIAL_MEDIA = 'RBK'\n",
    "\n",
    "with open(f'data/{SOCIAL_MEDIA}/result.json') as json_data:\n",
    "    data = json.load(json_data)"
   ]
  },
  {
   "cell_type": "code",
   "execution_count": 32,
   "id": "492c9d7e-6089-473e-be10-34e1529cedee",
   "metadata": {},
   "outputs": [
    {
     "data": {
      "text/plain": [
       "[{'id': 42838,\n",
       "  'type': 'message',\n",
       "  'date': '2022-02-24T05:30:10',\n",
       "  'date_unixtime': '1645673410',\n",
       "  'edited': '2022-03-01T14:45:29',\n",
       "  'edited_unixtime': '1646138729',\n",
       "  'from': 'РБК',\n",
       "  'from_id': 'channel1099860397',\n",
       "  'file': '(File not included. Change data exporting settings to download.)',\n",
       "  'thumbnail': '(File not included. Change data exporting settings to download.)',\n",
       "  'media_type': 'video_file',\n",
       "  'mime_type': 'video/mp4',\n",
       "  'duration_seconds': 41,\n",
       "  'width': 1010,\n",
       "  'height': 480,\n",
       "  'text': 'Обращение Путина с сообщением о начале специальной военной операции.'},\n",
       " {'id': 42839,\n",
       "  'type': 'message',\n",
       "  'date': '2022-02-24T05:32:59',\n",
       "  'date_unixtime': '1645673579',\n",
       "  'edited': '2022-02-24T05:33:02',\n",
       "  'edited_unixtime': '1645673582',\n",
       "  'from': 'РБК',\n",
       "  'from_id': 'channel1099860397',\n",
       "  'text': 'Киевский аэропорт «Жуляны» отменил все рейсы - УНИАН'},\n",
       " {'id': 42840,\n",
       "  'type': 'message',\n",
       "  'date': '2022-02-24T05:37:44',\n",
       "  'date_unixtime': '1645673864',\n",
       "  'edited': '2022-02-24T05:37:48',\n",
       "  'edited_unixtime': '1645673868',\n",
       "  'from': 'РБК',\n",
       "  'from_id': 'channel1099860397',\n",
       "  'text': [{'type': 'bold',\n",
       "    'text': 'Президент США Джо Байден выступил с экстренным обращением из-за начала военной операции\\n\\n'},\n",
       "   '«Молитвы всего мира сегодня с народом Украины, который страдает от неспровоцированного и неоправданного нападения российских вооруженных сил. Президент Путин выбрал преднамеренную войну, которая принесет катастрофические человеческие жертвы и страдания. Только Россия несет ответственность за смерть и разрушения, которые принесет это нападение, и Соединенные Штаты, их союзники и партнеры ответят единым и решительным образом. Мир призовет Россию к ответу».']},\n",
       " {'id': 42841,\n",
       "  'type': 'message',\n",
       "  'date': '2022-02-24T05:40:22',\n",
       "  'date_unixtime': '1645674022',\n",
       "  'edited': '2022-02-24T05:40:25',\n",
       "  'edited_unixtime': '1645674025',\n",
       "  'from': 'РБК',\n",
       "  'from_id': 'channel1099860397',\n",
       "  'file': '(File not included. Change data exporting settings to download.)',\n",
       "  'thumbnail': '(File not included. Change data exporting settings to download.)',\n",
       "  'media_type': 'video_file',\n",
       "  'mime_type': 'video/mp4',\n",
       "  'duration_seconds': 35,\n",
       "  'width': 464,\n",
       "  'height': 848,\n",
       "  'text': 'Украинское агентство УНИАН публикует кадры из Мариуполя, на которых, как утверждает агентство, видна работа реактивных систем залпового огня «Град».'},\n",
       " {'id': 42842,\n",
       "  'type': 'message',\n",
       "  'date': '2022-02-24T05:40:22',\n",
       "  'date_unixtime': '1645674022',\n",
       "  'edited': '2022-02-24T05:40:25',\n",
       "  'edited_unixtime': '1645674025',\n",
       "  'from': 'РБК',\n",
       "  'from_id': 'channel1099860397',\n",
       "  'file': '(File not included. Change data exporting settings to download.)',\n",
       "  'thumbnail': '(File not included. Change data exporting settings to download.)',\n",
       "  'media_type': 'video_file',\n",
       "  'mime_type': 'video/mp4',\n",
       "  'duration_seconds': 11,\n",
       "  'width': 364,\n",
       "  'height': 640,\n",
       "  'text': ''}]"
      ]
     },
     "execution_count": 32,
     "metadata": {},
     "output_type": "execute_result"
    }
   ],
   "source": [
    "data['messages'][10:15]"
   ]
  },
  {
   "cell_type": "code",
   "execution_count": 33,
   "id": "7a03d363-4d11-4202-90f2-40bdac76bac7",
   "metadata": {},
   "outputs": [
    {
     "data": {
      "text/plain": [
       "array(['bold', 'hashtag', 'italic', 'link', 'mention', 'phone',\n",
       "       'text_link', 'underline'], dtype='<U9')"
      ]
     },
     "execution_count": 33,
     "metadata": {},
     "output_type": "execute_result"
    }
   ],
   "source": [
    "all_types = np.unique([t['type'] for m in data['messages'] for t in m['text'] if type(t) is dict])\n",
    "all_types"
   ]
  },
  {
   "cell_type": "code",
   "execution_count": 34,
   "id": "49c2d8d8-6fd0-4872-b338-8e1982021cba",
   "metadata": {},
   "outputs": [
    {
     "data": {
      "text/plain": [
       "array([], dtype=float64)"
      ]
     },
     "execution_count": 34,
     "metadata": {},
     "output_type": "execute_result"
    }
   ],
   "source": [
    "all_email = np.unique([t['text'] for m in data['messages'] for t in m['text'] if type(t) is dict and t['type'] == 'email'])\n",
    "all_email"
   ]
  },
  {
   "cell_type": "code",
   "execution_count": 35,
   "id": "251121cd-9eb2-4805-b84c-339d534b5d10",
   "metadata": {},
   "outputs": [],
   "source": [
    "from demoji import replace \n",
    "\n",
    "\n",
    "BAD_TEXT_TYPES = ['email', 'mention', 'strikethrough', 'hashtag', 'code', 'link']\n",
    "UKR_CHARS = ['ї', 'є', 'і', 'ʼ', 'ґ']\n",
    "FOREIGN_AGENT_MESSAGE_START = 'ДАННОЕ'\n",
    "SUBSCRIBE_MESSAGE = 'УС > Подписаться'\n",
    "UKRAINE24_BANNER_MESSAGE = 'Украина 24/7'\n",
    "\n",
    "\n",
    "def clean_str(input_str):\n",
    "    output_str = replace(input_str.strip().replace(\"\\n\", \".\"), '')\n",
    "    \n",
    "    if FOREIGN_AGENT_MESSAGE_START in output_str:\n",
    "        return ''\n",
    "    \n",
    "    output_str = output_str.replace('\\u200b', ' ') \\\n",
    "                           .replace('\\xa0', ' ') \\\n",
    "                           .replace(SUBSCRIBE_MESSAGE, '') \\\n",
    "                           .replace(UKRAINE24_BANNER_MESSAGE, '') \\\n",
    "                           .strip() + ' '\n",
    "    \n",
    "    return output_str\n",
    "    \n",
    "\n",
    "def create_datasets_from_news_sources(news_sources_list):\n",
    "    \n",
    "    for news_source in tqdm(news_sources_list):\n",
    "        extracted_data = {\n",
    "            'date': [],\n",
    "            'text': []\n",
    "        }\n",
    "\n",
    "        ukr_messages_inds = []\n",
    "        \n",
    "        with open(f'data/{news_source}/result.json') as json_data:\n",
    "            data = json.load(json_data)\n",
    "            \n",
    "        for i, m in enumerate(data['messages']):\n",
    "            texts = m['text']\n",
    "            text = ''\n",
    "\n",
    "            if isinstance(texts, str):\n",
    "                text += clean_str(texts)\n",
    "            else:\n",
    "                for t in texts:\n",
    "                    sub_text = ''\n",
    "\n",
    "                    if type(t) is dict and t['type'] not in BAD_TEXT_TYPES and len(t['text']) > 0 and 'http' not in t['text']:\n",
    "                        sub_text = t['text']\n",
    "\n",
    "                    if type(t) is str and len(t) > 0:\n",
    "                        sub_text = t\n",
    "\n",
    "                    sub_text = clean_str(sub_text)\n",
    "\n",
    "                    if len(sub_text) == 0:\n",
    "                        continue\n",
    "\n",
    "                    # if sub_text[-1] not in ['!', '?', '.', ',', ':', ';']:\n",
    "                    #     sub_text += ' '\n",
    "\n",
    "                    text += sub_text\n",
    "\n",
    "            if text != '' and len(text) > 25:\n",
    "                extracted_data['date'].append(m['date'])\n",
    "                extracted_data['text'].append(text.strip())\n",
    "\n",
    "            if any(c in UKR_CHARS for c in text):\n",
    "                ukr_messages_inds.append(len(extracted_data['text']) - 1)\n",
    "\n",
    "        extracted_data['date'] = np.delete(extracted_data['date'], ukr_messages_inds)\n",
    "        extracted_data['text'] = np.delete(extracted_data['text'], ukr_messages_inds)\n",
    "\n",
    "        df = pd.DataFrame(extracted_data)\n",
    "        df['date'] = pd.to_datetime(df['date'])\n",
    "        df.to_csv(f'./data/{news_source}/dataset.csv', index=False)"
   ]
  },
  {
   "cell_type": "code",
   "execution_count": 63,
   "id": "53ae4b44-9985-4632-90cd-2ac5412a45e9",
   "metadata": {},
   "outputs": [],
   "source": [
    "SOCIAL_MEDIA_SOURCES = [d for d in os.listdir('data') if d[0] != '.']\n",
    "create_datasets_from_news_sources(SOCIAL_MEDIA_SOURCES)"
   ]
  },
  {
   "cell_type": "code",
   "execution_count": 73,
   "id": "0ac034d3-6dfb-48f2-a8b2-ff9198281770",
   "metadata": {},
   "outputs": [
    {
     "name": "stdout",
     "output_type": "stream",
     "text": [
      "Ukraine24: \t size 2754\n",
      "UkraineNow: \t size 22209\n",
      "ShockedUkraine: \t size 7179\n",
      "UNIAN: \t size 23574\n"
     ]
    }
   ],
   "source": [
    "sizes = []\n",
    "for news_source in SOCIAL_MEDIA_SOURCES:\n",
    "    if news_source in ['Ukraine24', 'UkraineNow', 'ShockedUkraine', 'UNIAN']:\n",
    "        df = pd.read_csv(f'./data/{news_source}/dataset.csv')\n",
    "        sizes.append(df.shape[0])\n",
    "        print(f\"{news_source}: \\t size {df.shape[0]}\")"
   ]
  },
  {
   "cell_type": "code",
   "execution_count": 56,
   "id": "5dd02f34-45a1-47e6-8d00-617dca6ffbe3",
   "metadata": {},
   "outputs": [],
   "source": [
    "relative_sizes = np.array(sizes) / np.sum(sizes) * 100"
   ]
  },
  {
   "cell_type": "code",
   "execution_count": 74,
   "id": "9fdc63ae-5b61-4b1a-bf2f-24d702ca7a84",
   "metadata": {},
   "outputs": [
    {
     "data": {
      "text/plain": [
       "(array([ 2.00821077, 14.54530871, 16.19475415,  5.31001845,  0.54106477,\n",
       "         7.75866469,  0.38793323, 23.14765526,  5.23491107,  1.00191779,\n",
       "        17.19010916,  6.67945193]),\n",
       " 55716)"
      ]
     },
     "execution_count": 74,
     "metadata": {},
     "output_type": "execute_result"
    }
   ],
   "source": [
    "relative_sizes, np.sum(sizes)"
   ]
  },
  {
   "cell_type": "code",
   "execution_count": 68,
   "id": "1d3d1010-c86c-4e54-95f6-2dd86377aaf9",
   "metadata": {},
   "outputs": [
    {
     "data": {
      "text/plain": [
       "(33507, 72865, 8556)"
      ]
     },
     "execution_count": 68,
     "metadata": {},
     "output_type": "execute_result"
    }
   ],
   "source": [
    "33507, 72865, 8556"
   ]
  },
  {
   "cell_type": "code",
   "execution_count": null,
   "id": "ef900aac-fc72-4ff5-9f8b-cb2acad941ab",
   "metadata": {},
   "outputs": [],
   "source": []
  }
 ],
 "metadata": {
  "kernelspec": {
   "display_name": "Python 3 (ipykernel)",
   "language": "python",
   "name": "python3"
  },
  "language_info": {
   "codemirror_mode": {
    "name": "ipython",
    "version": 3
   },
   "file_extension": ".py",
   "mimetype": "text/x-python",
   "name": "python",
   "nbconvert_exporter": "python",
   "pygments_lexer": "ipython3",
   "version": "3.8.12"
  }
 },
 "nbformat": 4,
 "nbformat_minor": 5
}
