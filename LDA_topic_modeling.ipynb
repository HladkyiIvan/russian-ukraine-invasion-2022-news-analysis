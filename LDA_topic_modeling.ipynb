{
 "cells": [
  {
   "cell_type": "code",
   "execution_count": null,
   "id": "8935e874-bb90-4041-8782-896f8063a36c",
   "metadata": {},
   "outputs": [],
   "source": [
    "import json\n",
    "import os\n",
    "import random\n",
    "import numpy as np\n",
    "import pandas as pd\n",
    "import gensim\n",
    "import nltk\n",
    "\n",
    "from gensim.models import CoherenceModel\n",
    "from multiprocess import Pool\n",
    "from tqdm import tqdm \n",
    "from gensim.utils import simple_preprocess\n",
    "from nltk.corpus import stopwords\n",
    "from nltk.stem.snowball import RussianStemmer\n",
    "from string import punctuation"
   ]
  },
  {
   "cell_type": "code",
   "execution_count": 1,
   "id": "81cf124c-6fbb-4588-9df7-fc7705a3d856",
   "metadata": {},
   "outputs": [],
   "source": [
    "SOCIAL_MEDIA = 'Medusa'"
   ]
  },
  {
   "cell_type": "markdown",
   "id": "7ef2f833-f36c-4d3b-98ae-0663e82becab",
   "metadata": {},
   "source": [
    "## LDA topic modeling\n",
    "### Preprocessing & stemming "
   ]
  },
  {
   "cell_type": "code",
   "execution_count": null,
   "id": "20063470-ea89-47f2-bb00-8ef509da7d63",
   "metadata": {},
   "outputs": [],
   "source": [
    "nltk.download(\"stopwords\")\n",
    "russian_stopwords = stopwords.words(\"russian\") + ['би', 'си', 'это', 'который', 'которая', 'которые']"
   ]
  },
  {
   "cell_type": "code",
   "execution_count": null,
   "id": "801bbe89-f40a-4256-9dd1-3365a31e9722",
   "metadata": {},
   "outputs": [],
   "source": [
    "df = pd.read_csv(f'./data_31.03/{SOCIAL_MEDIA}/dataset.csv')"
   ]
  },
  {
   "cell_type": "code",
   "execution_count": null,
   "id": "6d2fc15f-efa0-46af-8679-071f30b8b84e",
   "metadata": {},
   "outputs": [],
   "source": [
    "rus_stemmer = RussianStemmer()\n",
    "\n",
    "def preprocess(text):\n",
    "    tokens = gensim.utils.simple_preprocess(text)\n",
    "    stemmed_tokens = [rus_stemmer.stem(t) for t in tokens if t not in russian_stopwords]\n",
    "    # stemmed_tokens = [t for t in tokens if t not in russian_stopwords]\n",
    "    return stemmed_tokens"
   ]
  },
  {
   "cell_type": "code",
   "execution_count": null,
   "id": "f074bf8b-5d9e-41e8-9d83-58e521edbf74",
   "metadata": {},
   "outputs": [],
   "source": [
    "df['processed_text'] = list(map(preprocess, df['text'].tolist()))"
   ]
  },
  {
   "cell_type": "code",
   "execution_count": null,
   "id": "d35bd2b4-2590-49e8-9049-47f302c4f199",
   "metadata": {},
   "outputs": [],
   "source": [
    "df.to_csv(f'./data_31.03/{SOCIAL_MEDIA}/dataset.csv', index=False)"
   ]
  },
  {
   "cell_type": "markdown",
   "id": "29cef0a8-e18b-4c6a-b388-fbdb4e45f5b4",
   "metadata": {},
   "source": [
    "### BoW"
   ]
  },
  {
   "cell_type": "code",
   "execution_count": null,
   "id": "e51fca61-9035-49dc-91d8-f59aec447785",
   "metadata": {},
   "outputs": [],
   "source": [
    "dictionary = gensim.corpora.Dictionary(df['processed_text'].tolist())\n",
    "count = 0\n",
    "for k, v in dictionary.items():\n",
    "    print(k, v)\n",
    "    count += 1\n",
    "    if count > 10:\n",
    "        break\n",
    "print(f\"\\nDictionary len: {len(dictionary)}\")"
   ]
  },
  {
   "cell_type": "code",
   "execution_count": null,
   "id": "7356da3f-0355-465f-be39-aed40dc9d797",
   "metadata": {},
   "outputs": [],
   "source": [
    "dictionary.filter_extremes(no_below=20, no_above=0.15)\n",
    "print(f\"Dictionary len: {len(dictionary)}\")"
   ]
  },
  {
   "cell_type": "code",
   "execution_count": null,
   "id": "c28b3053-c13e-43e3-baff-c2ab2e619e8a",
   "metadata": {},
   "outputs": [],
   "source": [
    "bow_corpus = [dictionary.doc2bow(doc) for doc in df['processed_text'].tolist()]"
   ]
  },
  {
   "cell_type": "code",
   "execution_count": null,
   "id": "a57fe341-46f6-44ad-b090-43aeee6dae30",
   "metadata": {},
   "outputs": [],
   "source": [
    "bow_doc = bow_corpus[random.choice(range(len(df)))]\n",
    "for i in range(len(bow_doc)):\n",
    "    print(\"Word {} (\\\"{}\\\") appears {} time.\".format(bow_doc[i][0], \n",
    "                                               dictionary[bow_doc[i][0]], \n",
    "                                                bow_doc[i][1]))"
   ]
  },
  {
   "cell_type": "markdown",
   "id": "7dee28c0-29b8-4d04-99fe-7cbbaf868247",
   "metadata": {},
   "source": [
    "### LDA model"
   ]
  },
  {
   "cell_type": "code",
   "execution_count": null,
   "id": "4a8c2644-dd14-458b-9deb-c99f79efc5b0",
   "metadata": {},
   "outputs": [],
   "source": [
    "num_topics = 5\n",
    "passes = 30\n",
    "alpha = 'asymmetric'\n",
    "eta = 0.1\n",
    "\n",
    "lda_model = gensim.models.LdaMulticore(bow_corpus, num_topics=num_topics, id2word=dictionary, \n",
    "                                       passes=passes, alpha=alpha, eta=eta, random_state=100)"
   ]
  },
  {
   "cell_type": "code",
   "execution_count": null,
   "id": "eaefcccb-feb4-4c3a-bbde-96a2c816a6d7",
   "metadata": {},
   "outputs": [],
   "source": [
    "for idx, topic in lda_model.print_topics(-1):\n",
    "    print('Topic: {} \\nWords: {}'.format(idx, topic))"
   ]
  },
  {
   "cell_type": "markdown",
   "id": "70691ecc-88fe-4684-a1d0-e4b083cbb1bc",
   "metadata": {},
   "source": [
    "### Inference"
   ]
  },
  {
   "cell_type": "code",
   "execution_count": null,
   "id": "26f45c20-2223-4e90-be59-2da6ad0bd52c",
   "metadata": {},
   "outputs": [],
   "source": [
    "idx = 1280\n",
    "print(f\"Input sentence:\\n{df.loc[idx, 'text']}\")\n",
    "print(f\"\\nProcessed input sentence:\\n{df.loc[idx, 'processed_text']}\")\n",
    "\n",
    "for index, score in sorted(lda_model[bow_corpus[idx]], key=lambda tup: -1*tup[1]):\n",
    "    print(\"\\nScore: {}\\t \\nTopic: {}\".format(score, lda_model.print_topic(index, 10)))"
   ]
  },
  {
   "cell_type": "markdown",
   "id": "080ea6d0-0cb3-4392-8de4-5373dd2b9434",
   "metadata": {},
   "source": [
    "### Coherence"
   ]
  },
  {
   "cell_type": "code",
   "execution_count": null,
   "id": "0285aa52-7ac1-41ea-8180-7b4e4c1b2e26",
   "metadata": {},
   "outputs": [],
   "source": [
    "# Compute Coherence Score\n",
    "coherence_model_lda = CoherenceModel(model=lda_model, texts=df['processed_text'].tolist(), dictionary=dictionary, coherence='c_v')\n",
    "coherence_lda = coherence_model_lda.get_coherence()\n",
    "print('Baseline coherence score: ', coherence_lda)"
   ]
  },
  {
   "cell_type": "markdown",
   "id": "33937ac2-9f42-4973-86c7-7747baf08274",
   "metadata": {},
   "source": [
    "### Visualisation"
   ]
  },
  {
   "cell_type": "code",
   "execution_count": null,
   "id": "f35fa7f9-6c26-48d0-860b-c29b0a766292",
   "metadata": {},
   "outputs": [],
   "source": [
    "import pyLDAvis\n",
    "import pyLDAvis.gensim_models as gensimvis\n",
    "pyLDAvis.enable_notebook()\n",
    "\n",
    "# feed the LDA model into the pyLDAvis instance\n",
    "lda_viz = gensimvis.prepare(lda_model, bow_corpus, dictionary)"
   ]
  },
  {
   "cell_type": "markdown",
   "id": "da17ca61-7aa5-4787-8c6e-1ddbc520fd1b",
   "metadata": {},
   "source": [
    "### Hyperparameters tuning "
   ]
  },
  {
   "cell_type": "code",
   "execution_count": null,
   "id": "852e72d3-bd03-4eb3-8767-3a6ec8347765",
   "metadata": {},
   "outputs": [],
   "source": [
    "def compute_coherence_values(input_params):\n",
    "    k, a, b = input_params\n",
    "    lda_model = gensim.models.LdaMulticore(corpus=bow_corpus,\n",
    "                                           id2word=dictionary,\n",
    "                                           num_topics=k, \n",
    "                                           passes=15,\n",
    "                                           alpha=a,\n",
    "                                           eta=b)\n",
    "    \n",
    "    coherence_model_lda = CoherenceModel(model=lda_model, texts=df['processed_text'].tolist(), dictionary=dictionary, coherence='c_v')\n",
    "    return coherence_model_lda.get_coherence()\n",
    "\n",
    "\n",
    "def hyperparameters_tuning():\n",
    "    grid = {}\n",
    "    grid['Validation_Set'] = {}\n",
    "\n",
    "    # Topics range\n",
    "    min_topics = 2\n",
    "    max_topics = 11\n",
    "    step_size = 1\n",
    "    topics_range = range(min_topics, max_topics, step_size)\n",
    "\n",
    "    # Alpha parameter\n",
    "    alpha = [0.01, 0.03, 0.06, 0.1]\n",
    "    alpha.append('symmetric')\n",
    "    alpha.append('asymmetric')\n",
    "\n",
    "    # Beta parameter\n",
    "    beta = [0.01, 0.03, 0.06, 0.1]\n",
    "    beta.append('symmetric')\n",
    "\n",
    "    input_params = []\n",
    "    # Can take a long time to run\n",
    "    # iterate through number of topics\n",
    "    for k in topics_range:\n",
    "        # iterate through alpha values\n",
    "        for a in alpha:\n",
    "            # iterare through beta values\n",
    "            for b in beta:\n",
    "                input_params.append((k, a, b))\n",
    "    \n",
    "    with Pool() as pool:\n",
    "        cv_list = list(tqdm(pool.imap(compute_coherence_values, input_params), total=len(input_params)))  \n",
    "    \n",
    "    input_params = np.array(input_params)\n",
    "    model_results = pd.DataFrame({'n_topics': input_params[:, 0], 'alpha': input_params[:, 1], 'eta': input_params[:, 2], 'coherence': cv_list})\n",
    "    return model_results"
   ]
  },
  {
   "cell_type": "code",
   "execution_count": null,
   "id": "d080cfbd-26b5-47e2-af40-e33854fba958",
   "metadata": {},
   "outputs": [],
   "source": [
    "model_results = hyperparameters_tuning()\n",
    "model_results = model_results.sort_values('coherence', ascending=False)"
   ]
  },
  {
   "cell_type": "code",
   "execution_count": null,
   "id": "2c97fbce-460e-49ea-9a84-4a78c7fb8bec",
   "metadata": {},
   "outputs": [],
   "source": [
    "model_results"
   ]
  },
  {
   "cell_type": "code",
   "execution_count": null,
   "id": "a5e60073-7468-4c17-9ba4-76ebcef1bb45",
   "metadata": {},
   "outputs": [],
   "source": [
    "model_results.to_csv(f'data_31.03/{SOCIAL_MEDIA}/LDA_stemmed_{SOCIAL_MEDIA}_best_params.csv', index=False)"
   ]
  },
  {
   "cell_type": "markdown",
   "id": "9f36981f-7137-46fa-80ac-39a034e09a9b",
   "metadata": {},
   "source": [
    "### Retrain"
   ]
  },
  {
   "cell_type": "code",
   "execution_count": null,
   "id": "c8b8b0db-9ba3-41d3-81c2-ac2919da4393",
   "metadata": {},
   "outputs": [],
   "source": [
    "num_topics = 3\n",
    "passes = 50\n",
    "alpha = 'asymmetric'\n",
    "eta = 0.03\n",
    "\n",
    "lda_model = gensim.models.LdaMulticore(bow_corpus, num_topics=num_topics, id2word=dictionary, \n",
    "                                       passes=passes, alpha=alpha, eta=eta)"
   ]
  },
  {
   "cell_type": "code",
   "execution_count": null,
   "id": "ccbc4878-8f80-4719-a0bc-73066fe72139",
   "metadata": {},
   "outputs": [],
   "source": [
    "coherence_model_lda = CoherenceModel(model=lda_model, texts=df['processed_text'].tolist(), dictionary=dictionary, coherence='c_v')\n",
    "coherence_lda = coherence_model_lda.get_coherence()\n",
    "print('Tuned coherence score: ', coherence_lda)"
   ]
  },
  {
   "cell_type": "code",
   "execution_count": null,
   "id": "f596188e-c99f-4d6b-9c26-3d75a2b0d4df",
   "metadata": {},
   "outputs": [],
   "source": [
    "for idx, topic in lda_model.print_topics(-1):\n",
    "    print('Topic: {} \\nWords: {}'.format(idx, topic))"
   ]
  },
  {
   "cell_type": "code",
   "execution_count": null,
   "id": "2d23a4de-7159-404b-baa8-fdf6f6dcaaae",
   "metadata": {},
   "outputs": [],
   "source": [
    "lda_viz = gensimvis.prepare(lda_model, bow_corpus, dictionary)\n",
    "lda_viz"
   ]
  },
  {
   "cell_type": "code",
   "execution_count": null,
   "id": "0eca0598-1a0c-41f0-b9b0-3a5e15dd372d",
   "metadata": {},
   "outputs": [],
   "source": [
    "os.mkdir(f'data_31.03/{SOCIAL_MEDIA}/lda_model')\n",
    "lda_model.save(f'data_31.03/{SOCIAL_MEDIA}/lda_model/lda.model')"
   ]
  }
 ],
 "metadata": {
  "kernelspec": {
   "display_name": "Python 3 (ipykernel)",
   "language": "python",
   "name": "python3"
  },
  "language_info": {
   "codemirror_mode": {
    "name": "ipython",
    "version": 3
   },
   "file_extension": ".py",
   "mimetype": "text/x-python",
   "name": "python",
   "nbconvert_exporter": "python",
   "pygments_lexer": "ipython3",
   "version": "3.8.12"
  }
 },
 "nbformat": 4,
 "nbformat_minor": 5
}
