{
 "cells": [
  {
   "cell_type": "markdown",
   "id": "6e3e1c29-0025-4b1b-91c9-5a4764313715",
   "metadata": {},
   "source": [
    "## Importing libs & exploration"
   ]
  },
  {
   "cell_type": "code",
   "execution_count": 72,
   "id": "630a4270-6fd5-4e26-988c-0fb361d2b53b",
   "metadata": {},
   "outputs": [],
   "source": [
    "import json\n",
    "import os\n",
    "import random\n",
    "import numpy as np\n",
    "import pandas as pd\n",
    "import gensim\n",
    "import nltk\n",
    "\n",
    "from gensim.models import CoherenceModel\n",
    "from multiprocess import Pool\n",
    "from tqdm import tqdm \n",
    "from gensim.utils import simple_preprocess\n",
    "from nltk.corpus import stopwords\n",
    "from nltk.stem.snowball import RussianStemmer\n",
    "from string import punctuation"
   ]
  },
  {
   "cell_type": "code",
   "execution_count": 73,
   "id": "04eaf540-3017-4fc2-9343-025424109eb2",
   "metadata": {},
   "outputs": [],
   "source": [
    "SOCIAL_MEDIA = 'Medusa'\n",
    "\n",
    "with open(f'data_31.03/{SOCIAL_MEDIA}/result.json') as json_data:\n",
    "    data = json.load(json_data)"
   ]
  },
  {
   "cell_type": "code",
   "execution_count": 74,
   "id": "7a03d363-4d11-4202-90f2-40bdac76bac7",
   "metadata": {},
   "outputs": [
    {
     "data": {
      "text/plain": [
       "array(['bold', 'email', 'hashtag', 'italic', 'link', 'mention', 'phone',\n",
       "       'text_link', 'underline'], dtype='<U9')"
      ]
     },
     "execution_count": 74,
     "metadata": {},
     "output_type": "execute_result"
    }
   ],
   "source": [
    "all_types = np.unique([t['type'] for m in data['messages'] for t in m['text'] if type(t) is dict])\n",
    "all_types"
   ]
  },
  {
   "cell_type": "code",
   "execution_count": 75,
   "id": "84fa9d7f-aeae-4f79-99b3-5ed37ccad621",
   "metadata": {},
   "outputs": [
    {
     "data": {
      "text/plain": [
       "[{'id': 51766,\n",
       "  'type': 'message',\n",
       "  'date': '2022-02-24T11:11:30',\n",
       "  'from': 'Медуза — LIVE',\n",
       "  'from_id': 'channel1036240821',\n",
       "  'text': [{'type': 'bold', 'text': 'Главное на 12:00 мск\\n'},\n",
       "   '\\nДАННОЕ СООБЩЕНИЕ (МАТЕРИАЛ) СОЗДАНО И (ИЛИ) РАСПРОСТРАНЕНО ИНОСТРАННЫМ СРЕДСТВОМ МАССОВОЙ ИНФОРМАЦИИ, ВЫПОЛНЯЮЩИМ ФУНКЦИИ ИНОСТРАННОГО АГЕНТА, И (ИЛИ) РОССИЙСКИМ ЮРИДИЧЕСКИМ ЛИЦОМ, ВЫПОЛНЯЮЩИМ ФУНКЦИИ ИНОСТРАННОГО АГЕНТА\\n\\n➤ Минобороны Украины заявило о шестом сбитом российском военном самолете. Российская сторона потери отрицает\\n\\n➤ Власти Украины сообщили первые данные о жертвах среди мирного населения: в результате обстрелов в разных регионах страны погибли девять человек\\n\\n➤ Нацбанк Украины ограничил снятие наличных и остановил работу валютного рынка. Введен мораторий на трансграничные платежи и на снятие средств резидентами РФ\\n\\n➤ Обвал на Московской бирже продолжается. Индекс РТС потерял почти 50%, индекс МосБиржи обрушился на 45%\\n\\n➤ Литва ввела ЧС из-за военных действий на территории Украины\\n\\n➤ Президент Франции Эммануэль Макрон решительно осудил вторжение и призвал Россию прекратить военные действия\\n\\n➤ В банкоматах «Тинькофф банка» заканчивается наличная валюта']},\n",
       " {'id': 51767,\n",
       "  'type': 'message',\n",
       "  'date': '2022-02-24T11:18:59',\n",
       "  'from': 'Медуза — LIVE',\n",
       "  'from_id': 'channel1036240821',\n",
       "  'text': [{'type': 'bold',\n",
       "    'text': 'Лукашенко предложил провести российско-украинские переговоры в Минске'},\n",
       "   '\\n\\nДАННОЕ СООБЩЕНИЕ (МАТЕРИАЛ) СОЗДАНО И (ИЛИ) РАСПРОСТРАНЕНО ИНОСТРАННЫМ СРЕДСТВОМ МАССОВОЙ ИНФОРМАЦИИ, ВЫПОЛНЯЮЩИМ ФУНКЦИИ ИНОСТРАННОГО АГЕНТА, И (ИЛИ) РОССИЙСКИМ ЮРИДИЧЕСКИМ ЛИЦОМ, ВЫПОЛНЯЮЩИМ ФУНКЦИИ ИНОСТРАННОГО АГЕНТА\\n\\nТакже телеграм-канал «Пул первого» опубликовал ',\n",
       "   {'type': 'text_link', 'text': 'видео', 'href': 'https://t.me/pul_1/4842'},\n",
       "   ', на котором Лукашенко говорит, что якобы ночью рекомендовал своему министру обороны передать министру обороны Украины, чтобы тот связался с министром обороны России и «предотвратил эту бойню». \\n\\nЛукашенко назвал украинского министра «мерзавцем» за то, что тот якобы отказался звонить']},\n",
       " {'id': 51768,\n",
       "  'type': 'message',\n",
       "  'date': '2022-02-24T11:21:17',\n",
       "  'from': 'Медуза — LIVE',\n",
       "  'from_id': 'channel1036240821',\n",
       "  'text': [{'type': 'bold',\n",
       "    'text': 'Также Лукашенко высказался о признании ЛНР и ДНР\\n'},\n",
       "   '\\nДАННОЕ СООБЩЕНИЕ (МАТЕРИАЛ) СОЗДАНО И (ИЛИ) РАСПРОСТРАНЕНО ИНОСТРАННЫМ СРЕДСТВОМ МАССОВОЙ ИНФОРМАЦИИ, ВЫПОЛНЯЮЩИМ ФУНКЦИИ ИНОСТРАННОГО АГЕНТА, И (ИЛИ) РОССИЙСКИМ ЮРИДИЧЕСКИМ ЛИЦОМ, ВЫПОЛНЯЮЩИМ ФУНКЦИИ ИНОСТРАННОГО АГЕНТА\\n\\n«У нас этот вопрос в повестке дня стоит и в ближайшее время мы сделаем так, как будет нужно и нам, и России», — заявил он. \\n\\nБеларусь пока официально не признала самопровозглашенные республики.']},\n",
       " {'id': 51769,\n",
       "  'type': 'message',\n",
       "  'date': '2022-02-24T11:29:10',\n",
       "  'from': 'Медуза — LIVE',\n",
       "  'from_id': 'channel1036240821',\n",
       "  'forwarded_from': 'УНИАН - новости Украины | война с Россией | новини України | війна з Росією',\n",
       "  'text': 'Зеленский на брифинге заявил, что ВСУ ведут тяжелые бои, противник несет потери, и их будет еще больше.'},\n",
       " {'id': 51770,\n",
       "  'type': 'message',\n",
       "  'date': '2022-02-24T11:32:14',\n",
       "  'from': 'Медуза — LIVE',\n",
       "  'from_id': 'channel1036240821',\n",
       "  'text': [{'type': 'bold',\n",
       "    'text': 'На этом видео, как утверждается, показано, как украинская армия сбивает самолет российских ВВС\\n'},\n",
       "   '\\nДАННОЕ СООБЩЕНИЕ (МАТЕРИАЛ) СОЗДАНО И (ИЛИ) РАСПРОСТРАНЕНО ИНОСТРАННЫМ СРЕДСТВОМ МАССОВОЙ ИНФОРМАЦИИ, ВЫПОЛНЯЮЩИМ ФУНКЦИИ ИНОСТРАННОГО АГЕНТА, И (ИЛИ) РОССИЙСКИМ ЮРИДИЧЕСКИМ ЛИЦОМ, ВЫПОЛНЯЮЩИМ ФУНКЦИИ ИНОСТРАННОГО АГЕНТА\\n\\nГенштаб ВСУ заявляет о шести сбитых самолетах. Минобороны РФ не подтверждает ни одного.']}]"
      ]
     },
     "execution_count": 75,
     "metadata": {},
     "output_type": "execute_result"
    }
   ],
   "source": [
    "data['messages'][100:105]"
   ]
  },
  {
   "cell_type": "code",
   "execution_count": 76,
   "id": "49c2d8d8-6fd0-4872-b338-8e1982021cba",
   "metadata": {},
   "outputs": [
    {
     "data": {
      "text/plain": [
       "array(['photodoc@meduza.io', 'rusnorm@thebell.io'], dtype='<U18')"
      ]
     },
     "execution_count": 76,
     "metadata": {},
     "output_type": "execute_result"
    }
   ],
   "source": [
    "all_email = np.unique([t['text'] for m in data['messages'] for t in m['text'] if type(t) is dict and t['type'] == 'email'])\n",
    "all_email"
   ]
  },
  {
   "cell_type": "markdown",
   "id": "a0383c7c-421c-4c53-bcf9-4d7cceaed834",
   "metadata": {},
   "source": [
    "'ДАННОЕ СООБЩЕНИЕ (МАТЕРИАЛ) СОЗДАНО И (ИЛИ) РАСПРОСТРАНЕНО ИНОСТРАННЫМ СРЕДСТВОМ МАССОВОЙ ИНФОРМАЦИИ, ВЫПОЛНЯЮЩИМ ФУНКЦИИ ИНОСТРАННОГО АГЕНТА, И (ИЛИ) РОССИЙСКИМ ЮРИДИЧЕСКИМ ЛИЦОМ, ВЫПОЛНЯЮЩИМ ФУНКЦИИ ИНОСТРАННОГО АГЕНТА'## To csv\n",
    "Strange invisible endline symbol"
   ]
  },
  {
   "cell_type": "code",
   "execution_count": 143,
   "id": "251121cd-9eb2-4805-b84c-339d534b5d10",
   "metadata": {},
   "outputs": [
    {
     "name": "stderr",
     "output_type": "stream",
     "text": [
      "100%|██████████████████████████████████████████████████████████████████████████████████████████████████████████████████████████████████████████████████████████████████████████████████████████████████████████| 4460/4460 [00:13<00:00, 335.71it/s]\n"
     ]
    }
   ],
   "source": [
    "from demoji import replace \n",
    "\n",
    "def clean_str(input_str):\n",
    "    return replace(input_str.strip().replace(\"\\n\", \"\"), '')\n",
    "\n",
    "\n",
    "BAD_TEXT_TYPES = ['email', 'mention', 'strikethrough', 'hashtag', 'code', 'link', 'text_link']\n",
    "UKR_CHARS = ['ї', 'є', 'і', 'ʼ', 'ґ']\n",
    "FOREIGN_AGENT_MESSAGE = 'ДАННОЕ СООБЩЕНИЕ (МАТЕРИАЛ) СОЗДАНО И (ИЛИ) РАСПРОСТРАНЕНО ИНОСТРАННЫМ СРЕДСТВОМ МАССОВОЙ ИНФОРМАЦИИ, ВЫПОЛНЯЮЩИМ ФУНКЦИИ ИНОСТРАННОГО АГЕНТА, И (ИЛИ) РОССИЙСКИМ ЮРИДИЧЕСКИМ ЛИЦОМ, ВЫПОЛНЯЮЩИМ ФУНКЦИИ ИНОСТРАННОГО АГЕНТА'\n",
    "\n",
    "extracted_data = {\n",
    "    'date': [],\n",
    "    'text': []\n",
    "}\n",
    "\n",
    "\n",
    "ukr_messages_inds = []\n",
    "\n",
    "for i, m in tqdm(enumerate(data['messages']), total=len(data['messages'])):\n",
    "    texts = m['text']\n",
    "    text = ''\n",
    "    \n",
    "    if isinstance(texts, str):\n",
    "        text += clean_str(texts)\n",
    "    else:\n",
    "        for t in texts:\n",
    "            sub_text = ''\n",
    "\n",
    "            if type(t) is dict and t['type'] not in BAD_TEXT_TYPES and len(t['text']) > 0:\n",
    "                sub_text = t['text']\n",
    "\n",
    "            if type(t) is str and len(t) > 0:\n",
    "                sub_text = t\n",
    "\n",
    "            sub_text = clean_str(sub_text).strip()\n",
    "\n",
    "            if len(sub_text) == 0:\n",
    "                continue\n",
    "                \n",
    "            if sub_text[-1] not in ['!', '?', '.', ',', ':', ';']:\n",
    "                sub_text += '. '\n",
    "            \n",
    "            text += sub_text\n",
    "            \n",
    "        text = text.replace('\\xa0', ' ').replace(FOREIGN_AGENT_MESSAGE, '')\n",
    "        \n",
    "    if text != '' and len(text) > 25:\n",
    "        extracted_data['date'].append(m['date'])\n",
    "        extracted_data['text'].append(text)\n",
    "    \n",
    "    if any(c in UKR_CHARS for c in text):\n",
    "        ukr_messages_inds.append(len(extracted_data['text']) - 1)"
   ]
  },
  {
   "cell_type": "code",
   "execution_count": 173,
   "id": "53ae4b44-9985-4632-90cd-2ac5412a45e9",
   "metadata": {},
   "outputs": [
    {
     "ename": "IndexError",
     "evalue": "index 4231 is out of bounds for axis 0 with size 4219",
     "output_type": "error",
     "traceback": [
      "\u001b[0;31m---------------------------------------------------------------------------\u001b[0m",
      "\u001b[0;31mIndexError\u001b[0m                                Traceback (most recent call last)",
      "\u001b[0;32m/var/folders/y6/7qwgmmcj03nff5lsl00x4tcr0000gn/T/ipykernel_61263/2307169424.py\u001b[0m in \u001b[0;36m<module>\u001b[0;34m\u001b[0m\n\u001b[0;32m----> 1\u001b[0;31m \u001b[0mnp\u001b[0m\u001b[0;34m.\u001b[0m\u001b[0marray\u001b[0m\u001b[0;34m(\u001b[0m\u001b[0mextracted_data\u001b[0m\u001b[0;34m[\u001b[0m\u001b[0;34m'text'\u001b[0m\u001b[0;34m]\u001b[0m\u001b[0;34m)\u001b[0m\u001b[0;34m[\u001b[0m\u001b[0mukr_messages_inds\u001b[0m\u001b[0;34m]\u001b[0m\u001b[0;34m.\u001b[0m\u001b[0mshape\u001b[0m\u001b[0;34m\u001b[0m\u001b[0;34m\u001b[0m\u001b[0m\n\u001b[0m",
      "\u001b[0;31mIndexError\u001b[0m: index 4231 is out of bounds for axis 0 with size 4219"
     ]
    }
   ],
   "source": [
    "np.array(extracted_data['text'])[ukr_messages_inds].shape"
   ]
  },
  {
   "cell_type": "code",
   "execution_count": 145,
   "id": "da288d99-df12-4b94-b85b-3bf76a82eaa1",
   "metadata": {},
   "outputs": [],
   "source": [
    "extracted_data['date'] = np.delete(extracted_data['date'], ukr_messages_inds)\n",
    "extracted_data['text'] = np.delete(extracted_data['text'], ukr_messages_inds)"
   ]
  },
  {
   "cell_type": "code",
   "execution_count": 146,
   "id": "e6158b4b-f152-4bfd-b5eb-05c5e5ad7377",
   "metadata": {},
   "outputs": [],
   "source": [
    "df = pd.DataFrame(extracted_data)\n",
    "df['date'] = pd.to_datetime(df['date'])\n",
    "df.to_csv(f'./data_31.03/{SOCIAL_MEDIA}/dataset.csv', index=False)"
   ]
  }
 ],
 "metadata": {
  "kernelspec": {
   "display_name": "Python 3 (ipykernel)",
   "language": "python",
   "name": "python3"
  },
  "language_info": {
   "codemirror_mode": {
    "name": "ipython",
    "version": 3
   },
   "file_extension": ".py",
   "mimetype": "text/x-python",
   "name": "python",
   "nbconvert_exporter": "python",
   "pygments_lexer": "ipython3",
   "version": "3.8.12"
  }
 },
 "nbformat": 4,
 "nbformat_minor": 5
}
